{
 "cells": [
  {
   "cell_type": "code",
   "execution_count": 1,
   "id": "ae803e17",
   "metadata": {},
   "outputs": [],
   "source": [
    "import numpy as np\n",
    "import pandas as pd\n",
    "import matplotlib.pyplot as plt\n",
    "import seaborn as sns\n",
    "sns.set_style('whitegrid')"
   ]
  },
  {
   "cell_type": "code",
   "execution_count": 2,
   "id": "28c6c641",
   "metadata": {},
   "outputs": [],
   "source": [
    "dataset = pd.read_csv('iris.csv',names=['sep_l','sep_w','pet_l','pet_w','label'])"
   ]
  },
  {
   "cell_type": "code",
   "execution_count": 3,
   "id": "81a9a7a4",
   "metadata": {},
   "outputs": [
    {
     "data": {
      "text/html": [
       "<div>\n",
       "<style scoped>\n",
       "    .dataframe tbody tr th:only-of-type {\n",
       "        vertical-align: middle;\n",
       "    }\n",
       "\n",
       "    .dataframe tbody tr th {\n",
       "        vertical-align: top;\n",
       "    }\n",
       "\n",
       "    .dataframe thead th {\n",
       "        text-align: right;\n",
       "    }\n",
       "</style>\n",
       "<table border=\"1\" class=\"dataframe\">\n",
       "  <thead>\n",
       "    <tr style=\"text-align: right;\">\n",
       "      <th></th>\n",
       "      <th>sep_l</th>\n",
       "      <th>sep_w</th>\n",
       "      <th>pet_l</th>\n",
       "      <th>pet_w</th>\n",
       "      <th>label</th>\n",
       "    </tr>\n",
       "  </thead>\n",
       "  <tbody>\n",
       "    <tr>\n",
       "      <th>0</th>\n",
       "      <td>5.1</td>\n",
       "      <td>3.5</td>\n",
       "      <td>1.4</td>\n",
       "      <td>0.2</td>\n",
       "      <td>Iris-setosa</td>\n",
       "    </tr>\n",
       "    <tr>\n",
       "      <th>1</th>\n",
       "      <td>4.9</td>\n",
       "      <td>3.0</td>\n",
       "      <td>1.4</td>\n",
       "      <td>0.2</td>\n",
       "      <td>Iris-setosa</td>\n",
       "    </tr>\n",
       "    <tr>\n",
       "      <th>2</th>\n",
       "      <td>4.7</td>\n",
       "      <td>3.2</td>\n",
       "      <td>1.3</td>\n",
       "      <td>0.2</td>\n",
       "      <td>Iris-setosa</td>\n",
       "    </tr>\n",
       "    <tr>\n",
       "      <th>3</th>\n",
       "      <td>4.6</td>\n",
       "      <td>3.1</td>\n",
       "      <td>1.5</td>\n",
       "      <td>0.2</td>\n",
       "      <td>Iris-setosa</td>\n",
       "    </tr>\n",
       "    <tr>\n",
       "      <th>4</th>\n",
       "      <td>5.0</td>\n",
       "      <td>3.6</td>\n",
       "      <td>1.4</td>\n",
       "      <td>0.2</td>\n",
       "      <td>Iris-setosa</td>\n",
       "    </tr>\n",
       "    <tr>\n",
       "      <th>...</th>\n",
       "      <td>...</td>\n",
       "      <td>...</td>\n",
       "      <td>...</td>\n",
       "      <td>...</td>\n",
       "      <td>...</td>\n",
       "    </tr>\n",
       "    <tr>\n",
       "      <th>145</th>\n",
       "      <td>6.7</td>\n",
       "      <td>3.0</td>\n",
       "      <td>5.2</td>\n",
       "      <td>2.3</td>\n",
       "      <td>Iris-virginica</td>\n",
       "    </tr>\n",
       "    <tr>\n",
       "      <th>146</th>\n",
       "      <td>6.3</td>\n",
       "      <td>2.5</td>\n",
       "      <td>5.0</td>\n",
       "      <td>1.9</td>\n",
       "      <td>Iris-virginica</td>\n",
       "    </tr>\n",
       "    <tr>\n",
       "      <th>147</th>\n",
       "      <td>6.5</td>\n",
       "      <td>3.0</td>\n",
       "      <td>5.2</td>\n",
       "      <td>2.0</td>\n",
       "      <td>Iris-virginica</td>\n",
       "    </tr>\n",
       "    <tr>\n",
       "      <th>148</th>\n",
       "      <td>6.2</td>\n",
       "      <td>3.4</td>\n",
       "      <td>5.4</td>\n",
       "      <td>2.3</td>\n",
       "      <td>Iris-virginica</td>\n",
       "    </tr>\n",
       "    <tr>\n",
       "      <th>149</th>\n",
       "      <td>5.9</td>\n",
       "      <td>3.0</td>\n",
       "      <td>5.1</td>\n",
       "      <td>1.8</td>\n",
       "      <td>Iris-virginica</td>\n",
       "    </tr>\n",
       "  </tbody>\n",
       "</table>\n",
       "<p>150 rows × 5 columns</p>\n",
       "</div>"
      ],
      "text/plain": [
       "     sep_l  sep_w  pet_l  pet_w           label\n",
       "0      5.1    3.5    1.4    0.2     Iris-setosa\n",
       "1      4.9    3.0    1.4    0.2     Iris-setosa\n",
       "2      4.7    3.2    1.3    0.2     Iris-setosa\n",
       "3      4.6    3.1    1.5    0.2     Iris-setosa\n",
       "4      5.0    3.6    1.4    0.2     Iris-setosa\n",
       "..     ...    ...    ...    ...             ...\n",
       "145    6.7    3.0    5.2    2.3  Iris-virginica\n",
       "146    6.3    2.5    5.0    1.9  Iris-virginica\n",
       "147    6.5    3.0    5.2    2.0  Iris-virginica\n",
       "148    6.2    3.4    5.4    2.3  Iris-virginica\n",
       "149    5.9    3.0    5.1    1.8  Iris-virginica\n",
       "\n",
       "[150 rows x 5 columns]"
      ]
     },
     "execution_count": 3,
     "metadata": {},
     "output_type": "execute_result"
    }
   ],
   "source": [
    "dataset"
   ]
  },
  {
   "cell_type": "code",
   "execution_count": 4,
   "id": "eab57569",
   "metadata": {},
   "outputs": [],
   "source": [
    "X= dataset.iloc[:,0:4].values"
   ]
  },
  {
   "cell_type": "code",
   "execution_count": 5,
   "id": "d8b0337d",
   "metadata": {},
   "outputs": [
    {
     "data": {
      "text/plain": [
       "array([[5.1, 3.5, 1.4, 0.2],\n",
       "       [4.9, 3. , 1.4, 0.2],\n",
       "       [4.7, 3.2, 1.3, 0.2],\n",
       "       [4.6, 3.1, 1.5, 0.2],\n",
       "       [5. , 3.6, 1.4, 0.2],\n",
       "       [5.4, 3.9, 1.7, 0.4],\n",
       "       [4.6, 3.4, 1.4, 0.3],\n",
       "       [5. , 3.4, 1.5, 0.2],\n",
       "       [4.4, 2.9, 1.4, 0.2],\n",
       "       [4.9, 3.1, 1.5, 0.1],\n",
       "       [5.4, 3.7, 1.5, 0.2],\n",
       "       [4.8, 3.4, 1.6, 0.2],\n",
       "       [4.8, 3. , 1.4, 0.1],\n",
       "       [4.3, 3. , 1.1, 0.1],\n",
       "       [5.8, 4. , 1.2, 0.2],\n",
       "       [5.7, 4.4, 1.5, 0.4],\n",
       "       [5.4, 3.9, 1.3, 0.4],\n",
       "       [5.1, 3.5, 1.4, 0.3],\n",
       "       [5.7, 3.8, 1.7, 0.3],\n",
       "       [5.1, 3.8, 1.5, 0.3],\n",
       "       [5.4, 3.4, 1.7, 0.2],\n",
       "       [5.1, 3.7, 1.5, 0.4],\n",
       "       [4.6, 3.6, 1. , 0.2],\n",
       "       [5.1, 3.3, 1.7, 0.5],\n",
       "       [4.8, 3.4, 1.9, 0.2],\n",
       "       [5. , 3. , 1.6, 0.2],\n",
       "       [5. , 3.4, 1.6, 0.4],\n",
       "       [5.2, 3.5, 1.5, 0.2],\n",
       "       [5.2, 3.4, 1.4, 0.2],\n",
       "       [4.7, 3.2, 1.6, 0.2],\n",
       "       [4.8, 3.1, 1.6, 0.2],\n",
       "       [5.4, 3.4, 1.5, 0.4],\n",
       "       [5.2, 4.1, 1.5, 0.1],\n",
       "       [5.5, 4.2, 1.4, 0.2],\n",
       "       [4.9, 3.1, 1.5, 0.1],\n",
       "       [5. , 3.2, 1.2, 0.2],\n",
       "       [5.5, 3.5, 1.3, 0.2],\n",
       "       [4.9, 3.1, 1.5, 0.1],\n",
       "       [4.4, 3. , 1.3, 0.2],\n",
       "       [5.1, 3.4, 1.5, 0.2],\n",
       "       [5. , 3.5, 1.3, 0.3],\n",
       "       [4.5, 2.3, 1.3, 0.3],\n",
       "       [4.4, 3.2, 1.3, 0.2],\n",
       "       [5. , 3.5, 1.6, 0.6],\n",
       "       [5.1, 3.8, 1.9, 0.4],\n",
       "       [4.8, 3. , 1.4, 0.3],\n",
       "       [5.1, 3.8, 1.6, 0.2],\n",
       "       [4.6, 3.2, 1.4, 0.2],\n",
       "       [5.3, 3.7, 1.5, 0.2],\n",
       "       [5. , 3.3, 1.4, 0.2],\n",
       "       [7. , 3.2, 4.7, 1.4],\n",
       "       [6.4, 3.2, 4.5, 1.5],\n",
       "       [6.9, 3.1, 4.9, 1.5],\n",
       "       [5.5, 2.3, 4. , 1.3],\n",
       "       [6.5, 2.8, 4.6, 1.5],\n",
       "       [5.7, 2.8, 4.5, 1.3],\n",
       "       [6.3, 3.3, 4.7, 1.6],\n",
       "       [4.9, 2.4, 3.3, 1. ],\n",
       "       [6.6, 2.9, 4.6, 1.3],\n",
       "       [5.2, 2.7, 3.9, 1.4],\n",
       "       [5. , 2. , 3.5, 1. ],\n",
       "       [5.9, 3. , 4.2, 1.5],\n",
       "       [6. , 2.2, 4. , 1. ],\n",
       "       [6.1, 2.9, 4.7, 1.4],\n",
       "       [5.6, 2.9, 3.6, 1.3],\n",
       "       [6.7, 3.1, 4.4, 1.4],\n",
       "       [5.6, 3. , 4.5, 1.5],\n",
       "       [5.8, 2.7, 4.1, 1. ],\n",
       "       [6.2, 2.2, 4.5, 1.5],\n",
       "       [5.6, 2.5, 3.9, 1.1],\n",
       "       [5.9, 3.2, 4.8, 1.8],\n",
       "       [6.1, 2.8, 4. , 1.3],\n",
       "       [6.3, 2.5, 4.9, 1.5],\n",
       "       [6.1, 2.8, 4.7, 1.2],\n",
       "       [6.4, 2.9, 4.3, 1.3],\n",
       "       [6.6, 3. , 4.4, 1.4],\n",
       "       [6.8, 2.8, 4.8, 1.4],\n",
       "       [6.7, 3. , 5. , 1.7],\n",
       "       [6. , 2.9, 4.5, 1.5],\n",
       "       [5.7, 2.6, 3.5, 1. ],\n",
       "       [5.5, 2.4, 3.8, 1.1],\n",
       "       [5.5, 2.4, 3.7, 1. ],\n",
       "       [5.8, 2.7, 3.9, 1.2],\n",
       "       [6. , 2.7, 5.1, 1.6],\n",
       "       [5.4, 3. , 4.5, 1.5],\n",
       "       [6. , 3.4, 4.5, 1.6],\n",
       "       [6.7, 3.1, 4.7, 1.5],\n",
       "       [6.3, 2.3, 4.4, 1.3],\n",
       "       [5.6, 3. , 4.1, 1.3],\n",
       "       [5.5, 2.5, 4. , 1.3],\n",
       "       [5.5, 2.6, 4.4, 1.2],\n",
       "       [6.1, 3. , 4.6, 1.4],\n",
       "       [5.8, 2.6, 4. , 1.2],\n",
       "       [5. , 2.3, 3.3, 1. ],\n",
       "       [5.6, 2.7, 4.2, 1.3],\n",
       "       [5.7, 3. , 4.2, 1.2],\n",
       "       [5.7, 2.9, 4.2, 1.3],\n",
       "       [6.2, 2.9, 4.3, 1.3],\n",
       "       [5.1, 2.5, 3. , 1.1],\n",
       "       [5.7, 2.8, 4.1, 1.3],\n",
       "       [6.3, 3.3, 6. , 2.5],\n",
       "       [5.8, 2.7, 5.1, 1.9],\n",
       "       [7.1, 3. , 5.9, 2.1],\n",
       "       [6.3, 2.9, 5.6, 1.8],\n",
       "       [6.5, 3. , 5.8, 2.2],\n",
       "       [7.6, 3. , 6.6, 2.1],\n",
       "       [4.9, 2.5, 4.5, 1.7],\n",
       "       [7.3, 2.9, 6.3, 1.8],\n",
       "       [6.7, 2.5, 5.8, 1.8],\n",
       "       [7.2, 3.6, 6.1, 2.5],\n",
       "       [6.5, 3.2, 5.1, 2. ],\n",
       "       [6.4, 2.7, 5.3, 1.9],\n",
       "       [6.8, 3. , 5.5, 2.1],\n",
       "       [5.7, 2.5, 5. , 2. ],\n",
       "       [5.8, 2.8, 5.1, 2.4],\n",
       "       [6.4, 3.2, 5.3, 2.3],\n",
       "       [6.5, 3. , 5.5, 1.8],\n",
       "       [7.7, 3.8, 6.7, 2.2],\n",
       "       [7.7, 2.6, 6.9, 2.3],\n",
       "       [6. , 2.2, 5. , 1.5],\n",
       "       [6.9, 3.2, 5.7, 2.3],\n",
       "       [5.6, 2.8, 4.9, 2. ],\n",
       "       [7.7, 2.8, 6.7, 2. ],\n",
       "       [6.3, 2.7, 4.9, 1.8],\n",
       "       [6.7, 3.3, 5.7, 2.1],\n",
       "       [7.2, 3.2, 6. , 1.8],\n",
       "       [6.2, 2.8, 4.8, 1.8],\n",
       "       [6.1, 3. , 4.9, 1.8],\n",
       "       [6.4, 2.8, 5.6, 2.1],\n",
       "       [7.2, 3. , 5.8, 1.6],\n",
       "       [7.4, 2.8, 6.1, 1.9],\n",
       "       [7.9, 3.8, 6.4, 2. ],\n",
       "       [6.4, 2.8, 5.6, 2.2],\n",
       "       [6.3, 2.8, 5.1, 1.5],\n",
       "       [6.1, 2.6, 5.6, 1.4],\n",
       "       [7.7, 3. , 6.1, 2.3],\n",
       "       [6.3, 3.4, 5.6, 2.4],\n",
       "       [6.4, 3.1, 5.5, 1.8],\n",
       "       [6. , 3. , 4.8, 1.8],\n",
       "       [6.9, 3.1, 5.4, 2.1],\n",
       "       [6.7, 3.1, 5.6, 2.4],\n",
       "       [6.9, 3.1, 5.1, 2.3],\n",
       "       [5.8, 2.7, 5.1, 1.9],\n",
       "       [6.8, 3.2, 5.9, 2.3],\n",
       "       [6.7, 3.3, 5.7, 2.5],\n",
       "       [6.7, 3. , 5.2, 2.3],\n",
       "       [6.3, 2.5, 5. , 1.9],\n",
       "       [6.5, 3. , 5.2, 2. ],\n",
       "       [6.2, 3.4, 5.4, 2.3],\n",
       "       [5.9, 3. , 5.1, 1.8]])"
      ]
     },
     "execution_count": 5,
     "metadata": {},
     "output_type": "execute_result"
    }
   ],
   "source": [
    "X"
   ]
  },
  {
   "cell_type": "code",
   "execution_count": 6,
   "id": "2f9a02ad",
   "metadata": {},
   "outputs": [],
   "source": [
    "y = dataset.iloc[:,4].values"
   ]
  },
  {
   "cell_type": "code",
   "execution_count": 7,
   "id": "e3a5aec9",
   "metadata": {},
   "outputs": [
    {
     "data": {
      "text/plain": [
       "array(['Iris-setosa', 'Iris-setosa', 'Iris-setosa', 'Iris-setosa',\n",
       "       'Iris-setosa', 'Iris-setosa', 'Iris-setosa', 'Iris-setosa',\n",
       "       'Iris-setosa', 'Iris-setosa', 'Iris-setosa', 'Iris-setosa',\n",
       "       'Iris-setosa', 'Iris-setosa', 'Iris-setosa', 'Iris-setosa',\n",
       "       'Iris-setosa', 'Iris-setosa', 'Iris-setosa', 'Iris-setosa',\n",
       "       'Iris-setosa', 'Iris-setosa', 'Iris-setosa', 'Iris-setosa',\n",
       "       'Iris-setosa', 'Iris-setosa', 'Iris-setosa', 'Iris-setosa',\n",
       "       'Iris-setosa', 'Iris-setosa', 'Iris-setosa', 'Iris-setosa',\n",
       "       'Iris-setosa', 'Iris-setosa', 'Iris-setosa', 'Iris-setosa',\n",
       "       'Iris-setosa', 'Iris-setosa', 'Iris-setosa', 'Iris-setosa',\n",
       "       'Iris-setosa', 'Iris-setosa', 'Iris-setosa', 'Iris-setosa',\n",
       "       'Iris-setosa', 'Iris-setosa', 'Iris-setosa', 'Iris-setosa',\n",
       "       'Iris-setosa', 'Iris-setosa', 'Iris-versicolor', 'Iris-versicolor',\n",
       "       'Iris-versicolor', 'Iris-versicolor', 'Iris-versicolor',\n",
       "       'Iris-versicolor', 'Iris-versicolor', 'Iris-versicolor',\n",
       "       'Iris-versicolor', 'Iris-versicolor', 'Iris-versicolor',\n",
       "       'Iris-versicolor', 'Iris-versicolor', 'Iris-versicolor',\n",
       "       'Iris-versicolor', 'Iris-versicolor', 'Iris-versicolor',\n",
       "       'Iris-versicolor', 'Iris-versicolor', 'Iris-versicolor',\n",
       "       'Iris-versicolor', 'Iris-versicolor', 'Iris-versicolor',\n",
       "       'Iris-versicolor', 'Iris-versicolor', 'Iris-versicolor',\n",
       "       'Iris-versicolor', 'Iris-versicolor', 'Iris-versicolor',\n",
       "       'Iris-versicolor', 'Iris-versicolor', 'Iris-versicolor',\n",
       "       'Iris-versicolor', 'Iris-versicolor', 'Iris-versicolor',\n",
       "       'Iris-versicolor', 'Iris-versicolor', 'Iris-versicolor',\n",
       "       'Iris-versicolor', 'Iris-versicolor', 'Iris-versicolor',\n",
       "       'Iris-versicolor', 'Iris-versicolor', 'Iris-versicolor',\n",
       "       'Iris-versicolor', 'Iris-versicolor', 'Iris-versicolor',\n",
       "       'Iris-versicolor', 'Iris-versicolor', 'Iris-versicolor',\n",
       "       'Iris-virginica', 'Iris-virginica', 'Iris-virginica',\n",
       "       'Iris-virginica', 'Iris-virginica', 'Iris-virginica',\n",
       "       'Iris-virginica', 'Iris-virginica', 'Iris-virginica',\n",
       "       'Iris-virginica', 'Iris-virginica', 'Iris-virginica',\n",
       "       'Iris-virginica', 'Iris-virginica', 'Iris-virginica',\n",
       "       'Iris-virginica', 'Iris-virginica', 'Iris-virginica',\n",
       "       'Iris-virginica', 'Iris-virginica', 'Iris-virginica',\n",
       "       'Iris-virginica', 'Iris-virginica', 'Iris-virginica',\n",
       "       'Iris-virginica', 'Iris-virginica', 'Iris-virginica',\n",
       "       'Iris-virginica', 'Iris-virginica', 'Iris-virginica',\n",
       "       'Iris-virginica', 'Iris-virginica', 'Iris-virginica',\n",
       "       'Iris-virginica', 'Iris-virginica', 'Iris-virginica',\n",
       "       'Iris-virginica', 'Iris-virginica', 'Iris-virginica',\n",
       "       'Iris-virginica', 'Iris-virginica', 'Iris-virginica',\n",
       "       'Iris-virginica', 'Iris-virginica', 'Iris-virginica',\n",
       "       'Iris-virginica', 'Iris-virginica', 'Iris-virginica',\n",
       "       'Iris-virginica', 'Iris-virginica'], dtype=object)"
      ]
     },
     "execution_count": 7,
     "metadata": {},
     "output_type": "execute_result"
    }
   ],
   "source": [
    "y"
   ]
  },
  {
   "cell_type": "code",
   "execution_count": 8,
   "id": "6eb1edad",
   "metadata": {},
   "outputs": [],
   "source": [
    "from sklearn.preprocessing import LabelEncoder"
   ]
  },
  {
   "cell_type": "code",
   "execution_count": 9,
   "id": "d9e939c7",
   "metadata": {},
   "outputs": [],
   "source": [
    "le = LabelEncoder()"
   ]
  },
  {
   "cell_type": "code",
   "execution_count": 10,
   "id": "adeef2bd",
   "metadata": {},
   "outputs": [],
   "source": [
    "y_le = le.fit_transform (y)"
   ]
  },
  {
   "cell_type": "code",
   "execution_count": 11,
   "id": "5137ce87",
   "metadata": {},
   "outputs": [
    {
     "data": {
      "text/plain": [
       "array([0, 0, 0, 0, 0, 0, 0, 0, 0, 0, 0, 0, 0, 0, 0, 0, 0, 0, 0, 0, 0, 0,\n",
       "       0, 0, 0, 0, 0, 0, 0, 0, 0, 0, 0, 0, 0, 0, 0, 0, 0, 0, 0, 0, 0, 0,\n",
       "       0, 0, 0, 0, 0, 0, 1, 1, 1, 1, 1, 1, 1, 1, 1, 1, 1, 1, 1, 1, 1, 1,\n",
       "       1, 1, 1, 1, 1, 1, 1, 1, 1, 1, 1, 1, 1, 1, 1, 1, 1, 1, 1, 1, 1, 1,\n",
       "       1, 1, 1, 1, 1, 1, 1, 1, 1, 1, 1, 1, 2, 2, 2, 2, 2, 2, 2, 2, 2, 2,\n",
       "       2, 2, 2, 2, 2, 2, 2, 2, 2, 2, 2, 2, 2, 2, 2, 2, 2, 2, 2, 2, 2, 2,\n",
       "       2, 2, 2, 2, 2, 2, 2, 2, 2, 2, 2, 2, 2, 2, 2, 2, 2, 2])"
      ]
     },
     "execution_count": 11,
     "metadata": {},
     "output_type": "execute_result"
    }
   ],
   "source": [
    "y_le"
   ]
  },
  {
   "cell_type": "code",
   "execution_count": 12,
   "id": "8eaf273e",
   "metadata": {},
   "outputs": [],
   "source": [
    "#OneHotEncoder"
   ]
  },
  {
   "cell_type": "code",
   "execution_count": 13,
   "id": "e4d1c1a5",
   "metadata": {},
   "outputs": [
    {
     "data": {
      "text/plain": [
       "(150,)"
      ]
     },
     "execution_count": 13,
     "metadata": {},
     "output_type": "execute_result"
    }
   ],
   "source": [
    "y.shape"
   ]
  },
  {
   "cell_type": "code",
   "execution_count": 14,
   "id": "a11593ff",
   "metadata": {},
   "outputs": [],
   "source": [
    "y= y.reshape(-1,1)"
   ]
  },
  {
   "cell_type": "code",
   "execution_count": 16,
   "id": "62b5f9a9",
   "metadata": {},
   "outputs": [
    {
     "data": {
      "text/plain": [
       "(150, 1)"
      ]
     },
     "execution_count": 16,
     "metadata": {},
     "output_type": "execute_result"
    }
   ],
   "source": [
    "y.shape"
   ]
  },
  {
   "cell_type": "code",
   "execution_count": 17,
   "id": "7117844c",
   "metadata": {},
   "outputs": [],
   "source": [
    "from sklearn.preprocessing import OneHotEncoder"
   ]
  },
  {
   "cell_type": "code",
   "execution_count": 18,
   "id": "65beb133",
   "metadata": {},
   "outputs": [],
   "source": [
    "ohe = OneHotEncoder(sparse = False)"
   ]
  },
  {
   "cell_type": "code",
   "execution_count": 19,
   "id": "4325df01",
   "metadata": {},
   "outputs": [
    {
     "name": "stderr",
     "output_type": "stream",
     "text": [
      "C:\\ProgramData\\anaconda3\\Lib\\site-packages\\sklearn\\preprocessing\\_encoders.py:972: FutureWarning: `sparse` was renamed to `sparse_output` in version 1.2 and will be removed in 1.4. `sparse_output` is ignored unless you leave `sparse` to its default value.\n",
      "  warnings.warn(\n"
     ]
    }
   ],
   "source": [
    "y_ohe = ohe.fit_transform(y)"
   ]
  },
  {
   "cell_type": "code",
   "execution_count": 20,
   "id": "124704fd",
   "metadata": {},
   "outputs": [
    {
     "data": {
      "text/plain": [
       "array([[1., 0., 0.],\n",
       "       [1., 0., 0.],\n",
       "       [1., 0., 0.],\n",
       "       [1., 0., 0.],\n",
       "       [1., 0., 0.],\n",
       "       [1., 0., 0.],\n",
       "       [1., 0., 0.],\n",
       "       [1., 0., 0.],\n",
       "       [1., 0., 0.],\n",
       "       [1., 0., 0.],\n",
       "       [1., 0., 0.],\n",
       "       [1., 0., 0.],\n",
       "       [1., 0., 0.],\n",
       "       [1., 0., 0.],\n",
       "       [1., 0., 0.],\n",
       "       [1., 0., 0.],\n",
       "       [1., 0., 0.],\n",
       "       [1., 0., 0.],\n",
       "       [1., 0., 0.],\n",
       "       [1., 0., 0.],\n",
       "       [1., 0., 0.],\n",
       "       [1., 0., 0.],\n",
       "       [1., 0., 0.],\n",
       "       [1., 0., 0.],\n",
       "       [1., 0., 0.],\n",
       "       [1., 0., 0.],\n",
       "       [1., 0., 0.],\n",
       "       [1., 0., 0.],\n",
       "       [1., 0., 0.],\n",
       "       [1., 0., 0.],\n",
       "       [1., 0., 0.],\n",
       "       [1., 0., 0.],\n",
       "       [1., 0., 0.],\n",
       "       [1., 0., 0.],\n",
       "       [1., 0., 0.],\n",
       "       [1., 0., 0.],\n",
       "       [1., 0., 0.],\n",
       "       [1., 0., 0.],\n",
       "       [1., 0., 0.],\n",
       "       [1., 0., 0.],\n",
       "       [1., 0., 0.],\n",
       "       [1., 0., 0.],\n",
       "       [1., 0., 0.],\n",
       "       [1., 0., 0.],\n",
       "       [1., 0., 0.],\n",
       "       [1., 0., 0.],\n",
       "       [1., 0., 0.],\n",
       "       [1., 0., 0.],\n",
       "       [1., 0., 0.],\n",
       "       [1., 0., 0.],\n",
       "       [0., 1., 0.],\n",
       "       [0., 1., 0.],\n",
       "       [0., 1., 0.],\n",
       "       [0., 1., 0.],\n",
       "       [0., 1., 0.],\n",
       "       [0., 1., 0.],\n",
       "       [0., 1., 0.],\n",
       "       [0., 1., 0.],\n",
       "       [0., 1., 0.],\n",
       "       [0., 1., 0.],\n",
       "       [0., 1., 0.],\n",
       "       [0., 1., 0.],\n",
       "       [0., 1., 0.],\n",
       "       [0., 1., 0.],\n",
       "       [0., 1., 0.],\n",
       "       [0., 1., 0.],\n",
       "       [0., 1., 0.],\n",
       "       [0., 1., 0.],\n",
       "       [0., 1., 0.],\n",
       "       [0., 1., 0.],\n",
       "       [0., 1., 0.],\n",
       "       [0., 1., 0.],\n",
       "       [0., 1., 0.],\n",
       "       [0., 1., 0.],\n",
       "       [0., 1., 0.],\n",
       "       [0., 1., 0.],\n",
       "       [0., 1., 0.],\n",
       "       [0., 1., 0.],\n",
       "       [0., 1., 0.],\n",
       "       [0., 1., 0.],\n",
       "       [0., 1., 0.],\n",
       "       [0., 1., 0.],\n",
       "       [0., 1., 0.],\n",
       "       [0., 1., 0.],\n",
       "       [0., 1., 0.],\n",
       "       [0., 1., 0.],\n",
       "       [0., 1., 0.],\n",
       "       [0., 1., 0.],\n",
       "       [0., 1., 0.],\n",
       "       [0., 1., 0.],\n",
       "       [0., 1., 0.],\n",
       "       [0., 1., 0.],\n",
       "       [0., 1., 0.],\n",
       "       [0., 1., 0.],\n",
       "       [0., 1., 0.],\n",
       "       [0., 1., 0.],\n",
       "       [0., 1., 0.],\n",
       "       [0., 1., 0.],\n",
       "       [0., 1., 0.],\n",
       "       [0., 1., 0.],\n",
       "       [0., 0., 1.],\n",
       "       [0., 0., 1.],\n",
       "       [0., 0., 1.],\n",
       "       [0., 0., 1.],\n",
       "       [0., 0., 1.],\n",
       "       [0., 0., 1.],\n",
       "       [0., 0., 1.],\n",
       "       [0., 0., 1.],\n",
       "       [0., 0., 1.],\n",
       "       [0., 0., 1.],\n",
       "       [0., 0., 1.],\n",
       "       [0., 0., 1.],\n",
       "       [0., 0., 1.],\n",
       "       [0., 0., 1.],\n",
       "       [0., 0., 1.],\n",
       "       [0., 0., 1.],\n",
       "       [0., 0., 1.],\n",
       "       [0., 0., 1.],\n",
       "       [0., 0., 1.],\n",
       "       [0., 0., 1.],\n",
       "       [0., 0., 1.],\n",
       "       [0., 0., 1.],\n",
       "       [0., 0., 1.],\n",
       "       [0., 0., 1.],\n",
       "       [0., 0., 1.],\n",
       "       [0., 0., 1.],\n",
       "       [0., 0., 1.],\n",
       "       [0., 0., 1.],\n",
       "       [0., 0., 1.],\n",
       "       [0., 0., 1.],\n",
       "       [0., 0., 1.],\n",
       "       [0., 0., 1.],\n",
       "       [0., 0., 1.],\n",
       "       [0., 0., 1.],\n",
       "       [0., 0., 1.],\n",
       "       [0., 0., 1.],\n",
       "       [0., 0., 1.],\n",
       "       [0., 0., 1.],\n",
       "       [0., 0., 1.],\n",
       "       [0., 0., 1.],\n",
       "       [0., 0., 1.],\n",
       "       [0., 0., 1.],\n",
       "       [0., 0., 1.],\n",
       "       [0., 0., 1.],\n",
       "       [0., 0., 1.],\n",
       "       [0., 0., 1.],\n",
       "       [0., 0., 1.],\n",
       "       [0., 0., 1.],\n",
       "       [0., 0., 1.],\n",
       "       [0., 0., 1.]])"
      ]
     },
     "execution_count": 20,
     "metadata": {},
     "output_type": "execute_result"
    }
   ],
   "source": [
    "y_ohe"
   ]
  },
  {
   "cell_type": "code",
   "execution_count": 21,
   "id": "712334ae",
   "metadata": {},
   "outputs": [],
   "source": [
    "# Standerdization"
   ]
  },
  {
   "cell_type": "code",
   "execution_count": 22,
   "id": "e3e4bc1f",
   "metadata": {},
   "outputs": [
    {
     "data": {
      "text/plain": [
       "array([[5.1, 3.5, 1.4, 0.2],\n",
       "       [4.9, 3. , 1.4, 0.2],\n",
       "       [4.7, 3.2, 1.3, 0.2],\n",
       "       [4.6, 3.1, 1.5, 0.2],\n",
       "       [5. , 3.6, 1.4, 0.2],\n",
       "       [5.4, 3.9, 1.7, 0.4],\n",
       "       [4.6, 3.4, 1.4, 0.3],\n",
       "       [5. , 3.4, 1.5, 0.2],\n",
       "       [4.4, 2.9, 1.4, 0.2],\n",
       "       [4.9, 3.1, 1.5, 0.1],\n",
       "       [5.4, 3.7, 1.5, 0.2],\n",
       "       [4.8, 3.4, 1.6, 0.2],\n",
       "       [4.8, 3. , 1.4, 0.1],\n",
       "       [4.3, 3. , 1.1, 0.1],\n",
       "       [5.8, 4. , 1.2, 0.2],\n",
       "       [5.7, 4.4, 1.5, 0.4],\n",
       "       [5.4, 3.9, 1.3, 0.4],\n",
       "       [5.1, 3.5, 1.4, 0.3],\n",
       "       [5.7, 3.8, 1.7, 0.3],\n",
       "       [5.1, 3.8, 1.5, 0.3],\n",
       "       [5.4, 3.4, 1.7, 0.2],\n",
       "       [5.1, 3.7, 1.5, 0.4],\n",
       "       [4.6, 3.6, 1. , 0.2],\n",
       "       [5.1, 3.3, 1.7, 0.5],\n",
       "       [4.8, 3.4, 1.9, 0.2],\n",
       "       [5. , 3. , 1.6, 0.2],\n",
       "       [5. , 3.4, 1.6, 0.4],\n",
       "       [5.2, 3.5, 1.5, 0.2],\n",
       "       [5.2, 3.4, 1.4, 0.2],\n",
       "       [4.7, 3.2, 1.6, 0.2],\n",
       "       [4.8, 3.1, 1.6, 0.2],\n",
       "       [5.4, 3.4, 1.5, 0.4],\n",
       "       [5.2, 4.1, 1.5, 0.1],\n",
       "       [5.5, 4.2, 1.4, 0.2],\n",
       "       [4.9, 3.1, 1.5, 0.1],\n",
       "       [5. , 3.2, 1.2, 0.2],\n",
       "       [5.5, 3.5, 1.3, 0.2],\n",
       "       [4.9, 3.1, 1.5, 0.1],\n",
       "       [4.4, 3. , 1.3, 0.2],\n",
       "       [5.1, 3.4, 1.5, 0.2],\n",
       "       [5. , 3.5, 1.3, 0.3],\n",
       "       [4.5, 2.3, 1.3, 0.3],\n",
       "       [4.4, 3.2, 1.3, 0.2],\n",
       "       [5. , 3.5, 1.6, 0.6],\n",
       "       [5.1, 3.8, 1.9, 0.4],\n",
       "       [4.8, 3. , 1.4, 0.3],\n",
       "       [5.1, 3.8, 1.6, 0.2],\n",
       "       [4.6, 3.2, 1.4, 0.2],\n",
       "       [5.3, 3.7, 1.5, 0.2],\n",
       "       [5. , 3.3, 1.4, 0.2],\n",
       "       [7. , 3.2, 4.7, 1.4],\n",
       "       [6.4, 3.2, 4.5, 1.5],\n",
       "       [6.9, 3.1, 4.9, 1.5],\n",
       "       [5.5, 2.3, 4. , 1.3],\n",
       "       [6.5, 2.8, 4.6, 1.5],\n",
       "       [5.7, 2.8, 4.5, 1.3],\n",
       "       [6.3, 3.3, 4.7, 1.6],\n",
       "       [4.9, 2.4, 3.3, 1. ],\n",
       "       [6.6, 2.9, 4.6, 1.3],\n",
       "       [5.2, 2.7, 3.9, 1.4],\n",
       "       [5. , 2. , 3.5, 1. ],\n",
       "       [5.9, 3. , 4.2, 1.5],\n",
       "       [6. , 2.2, 4. , 1. ],\n",
       "       [6.1, 2.9, 4.7, 1.4],\n",
       "       [5.6, 2.9, 3.6, 1.3],\n",
       "       [6.7, 3.1, 4.4, 1.4],\n",
       "       [5.6, 3. , 4.5, 1.5],\n",
       "       [5.8, 2.7, 4.1, 1. ],\n",
       "       [6.2, 2.2, 4.5, 1.5],\n",
       "       [5.6, 2.5, 3.9, 1.1],\n",
       "       [5.9, 3.2, 4.8, 1.8],\n",
       "       [6.1, 2.8, 4. , 1.3],\n",
       "       [6.3, 2.5, 4.9, 1.5],\n",
       "       [6.1, 2.8, 4.7, 1.2],\n",
       "       [6.4, 2.9, 4.3, 1.3],\n",
       "       [6.6, 3. , 4.4, 1.4],\n",
       "       [6.8, 2.8, 4.8, 1.4],\n",
       "       [6.7, 3. , 5. , 1.7],\n",
       "       [6. , 2.9, 4.5, 1.5],\n",
       "       [5.7, 2.6, 3.5, 1. ],\n",
       "       [5.5, 2.4, 3.8, 1.1],\n",
       "       [5.5, 2.4, 3.7, 1. ],\n",
       "       [5.8, 2.7, 3.9, 1.2],\n",
       "       [6. , 2.7, 5.1, 1.6],\n",
       "       [5.4, 3. , 4.5, 1.5],\n",
       "       [6. , 3.4, 4.5, 1.6],\n",
       "       [6.7, 3.1, 4.7, 1.5],\n",
       "       [6.3, 2.3, 4.4, 1.3],\n",
       "       [5.6, 3. , 4.1, 1.3],\n",
       "       [5.5, 2.5, 4. , 1.3],\n",
       "       [5.5, 2.6, 4.4, 1.2],\n",
       "       [6.1, 3. , 4.6, 1.4],\n",
       "       [5.8, 2.6, 4. , 1.2],\n",
       "       [5. , 2.3, 3.3, 1. ],\n",
       "       [5.6, 2.7, 4.2, 1.3],\n",
       "       [5.7, 3. , 4.2, 1.2],\n",
       "       [5.7, 2.9, 4.2, 1.3],\n",
       "       [6.2, 2.9, 4.3, 1.3],\n",
       "       [5.1, 2.5, 3. , 1.1],\n",
       "       [5.7, 2.8, 4.1, 1.3],\n",
       "       [6.3, 3.3, 6. , 2.5],\n",
       "       [5.8, 2.7, 5.1, 1.9],\n",
       "       [7.1, 3. , 5.9, 2.1],\n",
       "       [6.3, 2.9, 5.6, 1.8],\n",
       "       [6.5, 3. , 5.8, 2.2],\n",
       "       [7.6, 3. , 6.6, 2.1],\n",
       "       [4.9, 2.5, 4.5, 1.7],\n",
       "       [7.3, 2.9, 6.3, 1.8],\n",
       "       [6.7, 2.5, 5.8, 1.8],\n",
       "       [7.2, 3.6, 6.1, 2.5],\n",
       "       [6.5, 3.2, 5.1, 2. ],\n",
       "       [6.4, 2.7, 5.3, 1.9],\n",
       "       [6.8, 3. , 5.5, 2.1],\n",
       "       [5.7, 2.5, 5. , 2. ],\n",
       "       [5.8, 2.8, 5.1, 2.4],\n",
       "       [6.4, 3.2, 5.3, 2.3],\n",
       "       [6.5, 3. , 5.5, 1.8],\n",
       "       [7.7, 3.8, 6.7, 2.2],\n",
       "       [7.7, 2.6, 6.9, 2.3],\n",
       "       [6. , 2.2, 5. , 1.5],\n",
       "       [6.9, 3.2, 5.7, 2.3],\n",
       "       [5.6, 2.8, 4.9, 2. ],\n",
       "       [7.7, 2.8, 6.7, 2. ],\n",
       "       [6.3, 2.7, 4.9, 1.8],\n",
       "       [6.7, 3.3, 5.7, 2.1],\n",
       "       [7.2, 3.2, 6. , 1.8],\n",
       "       [6.2, 2.8, 4.8, 1.8],\n",
       "       [6.1, 3. , 4.9, 1.8],\n",
       "       [6.4, 2.8, 5.6, 2.1],\n",
       "       [7.2, 3. , 5.8, 1.6],\n",
       "       [7.4, 2.8, 6.1, 1.9],\n",
       "       [7.9, 3.8, 6.4, 2. ],\n",
       "       [6.4, 2.8, 5.6, 2.2],\n",
       "       [6.3, 2.8, 5.1, 1.5],\n",
       "       [6.1, 2.6, 5.6, 1.4],\n",
       "       [7.7, 3. , 6.1, 2.3],\n",
       "       [6.3, 3.4, 5.6, 2.4],\n",
       "       [6.4, 3.1, 5.5, 1.8],\n",
       "       [6. , 3. , 4.8, 1.8],\n",
       "       [6.9, 3.1, 5.4, 2.1],\n",
       "       [6.7, 3.1, 5.6, 2.4],\n",
       "       [6.9, 3.1, 5.1, 2.3],\n",
       "       [5.8, 2.7, 5.1, 1.9],\n",
       "       [6.8, 3.2, 5.9, 2.3],\n",
       "       [6.7, 3.3, 5.7, 2.5],\n",
       "       [6.7, 3. , 5.2, 2.3],\n",
       "       [6.3, 2.5, 5. , 1.9],\n",
       "       [6.5, 3. , 5.2, 2. ],\n",
       "       [6.2, 3.4, 5.4, 2.3],\n",
       "       [5.9, 3. , 5.1, 1.8]])"
      ]
     },
     "execution_count": 22,
     "metadata": {},
     "output_type": "execute_result"
    }
   ],
   "source": [
    "X"
   ]
  },
  {
   "cell_type": "code",
   "execution_count": 23,
   "id": "4b8c018d",
   "metadata": {},
   "outputs": [
    {
     "data": {
      "text/plain": [
       "5.843333333333334"
      ]
     },
     "execution_count": 23,
     "metadata": {},
     "output_type": "execute_result"
    }
   ],
   "source": [
    "np.mean (X[:,0])"
   ]
  },
  {
   "cell_type": "code",
   "execution_count": 24,
   "id": "c643a085",
   "metadata": {},
   "outputs": [
    {
     "data": {
      "text/plain": [
       "0.8253012917851409"
      ]
     },
     "execution_count": 24,
     "metadata": {},
     "output_type": "execute_result"
    }
   ],
   "source": [
    "np.std(X[:,0])"
   ]
  },
  {
   "cell_type": "code",
   "execution_count": 25,
   "id": "6ae1a25e",
   "metadata": {},
   "outputs": [
    {
     "name": "stderr",
     "output_type": "stream",
     "text": [
      "C:\\Users\\Welcome\\AppData\\Local\\Temp\\ipykernel_11840\\3283443782.py:1: UserWarning: \n",
      "\n",
      "`distplot` is a deprecated function and will be removed in seaborn v0.14.0.\n",
      "\n",
      "Please adapt your code to use either `displot` (a figure-level function with\n",
      "similar flexibility) or `histplot` (an axes-level function for histograms).\n",
      "\n",
      "For a guide to updating your code to use the new functions, please see\n",
      "https://gist.github.com/mwaskom/de44147ed2974457ad6372750bbe5751\n",
      "\n",
      "  sns.distplot(X[:,0])\n"
     ]
    },
    {
     "data": {
      "text/plain": [
       "<Axes: ylabel='Density'>"
      ]
     },
     "execution_count": 25,
     "metadata": {},
     "output_type": "execute_result"
    },
    {
     "data": {
      "image/png": "[encoded data removed]",
      "text/plain": [
       "<Figure size 640x480 with 1 Axes>"
      ]
     },
     "metadata": {},
     "output_type": "display_data"
    }
   ],
   "source": [
    "sns.distplot(X[:,0])"
   ]
  },
  {
   "cell_type": "code",
   "execution_count": 26,
   "id": "4f20c68c",
   "metadata": {},
   "outputs": [],
   "source": [
    "from sklearn.preprocessing import StandardScaler"
   ]
  },
  {
   "cell_type": "code",
   "execution_count": 27,
   "id": "fd2c4cad",
   "metadata": {},
   "outputs": [],
   "source": [
    "scaler = StandardScaler()"
   ]
  },
  {
   "cell_type": "code",
   "execution_count": 28,
   "id": "47c52028",
   "metadata": {},
   "outputs": [],
   "source": [
    "X_std = scaler.fit_transform(X)"
   ]
  },
  {
   "cell_type": "code",
   "execution_count": 29,
   "id": "7e36ce72",
   "metadata": {},
   "outputs": [
    {
     "data": {
      "text/plain": [
       "array([[-0.9 ,  1.03, -1.34, -1.31],\n",
       "       [-1.14, -0.12, -1.34, -1.31],\n",
       "       [-1.39,  0.34, -1.4 , -1.31],\n",
       "       [-1.51,  0.11, -1.28, -1.31],\n",
       "       [-1.02,  1.26, -1.34, -1.31],\n",
       "       [-0.54,  1.96, -1.17, -1.05],\n",
       "       [-1.51,  0.8 , -1.34, -1.18],\n",
       "       [-1.02,  0.8 , -1.28, -1.31],\n",
       "       [-1.75, -0.36, -1.34, -1.31],\n",
       "       [-1.14,  0.11, -1.28, -1.44],\n",
       "       [-0.54,  1.49, -1.28, -1.31],\n",
       "       [-1.26,  0.8 , -1.23, -1.31],\n",
       "       [-1.26, -0.12, -1.34, -1.44],\n",
       "       [-1.87, -0.12, -1.51, -1.44],\n",
       "       [-0.05,  2.19, -1.46, -1.31],\n",
       "       [-0.17,  3.11, -1.28, -1.05],\n",
       "       [-0.54,  1.96, -1.4 , -1.05],\n",
       "       [-0.9 ,  1.03, -1.34, -1.18],\n",
       "       [-0.17,  1.73, -1.17, -1.18],\n",
       "       [-0.9 ,  1.73, -1.28, -1.18],\n",
       "       [-0.54,  0.8 , -1.17, -1.31],\n",
       "       [-0.9 ,  1.49, -1.28, -1.05],\n",
       "       [-1.51,  1.26, -1.57, -1.31],\n",
       "       [-0.9 ,  0.57, -1.17, -0.92],\n",
       "       [-1.26,  0.8 , -1.06, -1.31],\n",
       "       [-1.02, -0.12, -1.23, -1.31],\n",
       "       [-1.02,  0.8 , -1.23, -1.05],\n",
       "       [-0.78,  1.03, -1.28, -1.31],\n",
       "       [-0.78,  0.8 , -1.34, -1.31],\n",
       "       [-1.39,  0.34, -1.23, -1.31],\n",
       "       [-1.26,  0.11, -1.23, -1.31],\n",
       "       [-0.54,  0.8 , -1.28, -1.05],\n",
       "       [-0.78,  2.42, -1.28, -1.44],\n",
       "       [-0.42,  2.65, -1.34, -1.31],\n",
       "       [-1.14,  0.11, -1.28, -1.44],\n",
       "       [-1.02,  0.34, -1.46, -1.31],\n",
       "       [-0.42,  1.03, -1.4 , -1.31],\n",
       "       [-1.14,  0.11, -1.28, -1.44],\n",
       "       [-1.75, -0.12, -1.4 , -1.31],\n",
       "       [-0.9 ,  0.8 , -1.28, -1.31],\n",
       "       [-1.02,  1.03, -1.4 , -1.18],\n",
       "       [-1.63, -1.74, -1.4 , -1.18],\n",
       "       [-1.75,  0.34, -1.4 , -1.31],\n",
       "       [-1.02,  1.03, -1.23, -0.79],\n",
       "       [-0.9 ,  1.73, -1.06, -1.05],\n",
       "       [-1.26, -0.12, -1.34, -1.18],\n",
       "       [-0.9 ,  1.73, -1.23, -1.31],\n",
       "       [-1.51,  0.34, -1.34, -1.31],\n",
       "       [-0.66,  1.49, -1.28, -1.31],\n",
       "       [-1.02,  0.57, -1.34, -1.31],\n",
       "       [ 1.4 ,  0.34,  0.54,  0.26],\n",
       "       [ 0.67,  0.34,  0.42,  0.4 ],\n",
       "       [ 1.28,  0.11,  0.65,  0.4 ],\n",
       "       [-0.42, -1.74,  0.14,  0.13],\n",
       "       [ 0.8 , -0.59,  0.48,  0.4 ],\n",
       "       [-0.17, -0.59,  0.42,  0.13],\n",
       "       [ 0.55,  0.57,  0.54,  0.53],\n",
       "       [-1.14, -1.51, -0.26, -0.26],\n",
       "       [ 0.92, -0.36,  0.48,  0.13],\n",
       "       [-0.78, -0.82,  0.08,  0.26],\n",
       "       [-1.02, -2.44, -0.15, -0.26],\n",
       "       [ 0.07, -0.12,  0.25,  0.4 ],\n",
       "       [ 0.19, -1.98,  0.14, -0.26],\n",
       "       [ 0.31, -0.36,  0.54,  0.26],\n",
       "       [-0.29, -0.36, -0.09,  0.13],\n",
       "       [ 1.04,  0.11,  0.36,  0.26],\n",
       "       [-0.29, -0.12,  0.42,  0.4 ],\n",
       "       [-0.05, -0.82,  0.19, -0.26],\n",
       "       [ 0.43, -1.98,  0.42,  0.4 ],\n",
       "       [-0.29, -1.28,  0.08, -0.13],\n",
       "       [ 0.07,  0.34,  0.59,  0.79],\n",
       "       [ 0.31, -0.59,  0.14,  0.13],\n",
       "       [ 0.55, -1.28,  0.65,  0.4 ],\n",
       "       [ 0.31, -0.59,  0.54,  0.  ],\n",
       "       [ 0.67, -0.36,  0.31,  0.13],\n",
       "       [ 0.92, -0.12,  0.36,  0.26],\n",
       "       [ 1.16, -0.59,  0.59,  0.26],\n",
       "       [ 1.04, -0.12,  0.71,  0.66],\n",
       "       [ 0.19, -0.36,  0.42,  0.4 ],\n",
       "       [-0.17, -1.05, -0.15, -0.26],\n",
       "       [-0.42, -1.51,  0.02, -0.13],\n",
       "       [-0.42, -1.51, -0.03, -0.26],\n",
       "       [-0.05, -0.82,  0.08,  0.  ],\n",
       "       [ 0.19, -0.82,  0.76,  0.53],\n",
       "       [-0.54, -0.12,  0.42,  0.4 ],\n",
       "       [ 0.19,  0.8 ,  0.42,  0.53],\n",
       "       [ 1.04,  0.11,  0.54,  0.4 ],\n",
       "       [ 0.55, -1.74,  0.36,  0.13],\n",
       "       [-0.29, -0.12,  0.19,  0.13],\n",
       "       [-0.42, -1.28,  0.14,  0.13],\n",
       "       [-0.42, -1.05,  0.36,  0.  ],\n",
       "       [ 0.31, -0.12,  0.48,  0.26],\n",
       "       [-0.05, -1.05,  0.14,  0.  ],\n",
       "       [-1.02, -1.74, -0.26, -0.26],\n",
       "       [-0.29, -0.82,  0.25,  0.13],\n",
       "       [-0.17, -0.12,  0.25,  0.  ],\n",
       "       [-0.17, -0.36,  0.25,  0.13],\n",
       "       [ 0.43, -0.36,  0.31,  0.13],\n",
       "       [-0.9 , -1.28, -0.43, -0.13],\n",
       "       [-0.17, -0.59,  0.19,  0.13],\n",
       "       [ 0.55,  0.57,  1.27,  1.71],\n",
       "       [-0.05, -0.82,  0.76,  0.92],\n",
       "       [ 1.52, -0.12,  1.22,  1.19],\n",
       "       [ 0.55, -0.36,  1.05,  0.79],\n",
       "       [ 0.8 , -0.12,  1.16,  1.32],\n",
       "       [ 2.13, -0.12,  1.62,  1.19],\n",
       "       [-1.14, -1.28,  0.42,  0.66],\n",
       "       [ 1.77, -0.36,  1.45,  0.79],\n",
       "       [ 1.04, -1.28,  1.16,  0.79],\n",
       "       [ 1.64,  1.26,  1.33,  1.71],\n",
       "       [ 0.8 ,  0.34,  0.76,  1.05],\n",
       "       [ 0.67, -0.82,  0.88,  0.92],\n",
       "       [ 1.16, -0.12,  0.99,  1.19],\n",
       "       [-0.17, -1.28,  0.71,  1.05],\n",
       "       [-0.05, -0.59,  0.76,  1.58],\n",
       "       [ 0.67,  0.34,  0.88,  1.45],\n",
       "       [ 0.8 , -0.12,  0.99,  0.79],\n",
       "       [ 2.25,  1.73,  1.67,  1.32],\n",
       "       [ 2.25, -1.05,  1.79,  1.45],\n",
       "       [ 0.19, -1.98,  0.71,  0.4 ],\n",
       "       [ 1.28,  0.34,  1.1 ,  1.45],\n",
       "       [-0.29, -0.59,  0.65,  1.05],\n",
       "       [ 2.25, -0.59,  1.67,  1.05],\n",
       "       [ 0.55, -0.82,  0.65,  0.79],\n",
       "       [ 1.04,  0.57,  1.1 ,  1.19],\n",
       "       [ 1.64,  0.34,  1.27,  0.79],\n",
       "       [ 0.43, -0.59,  0.59,  0.79],\n",
       "       [ 0.31, -0.12,  0.65,  0.79],\n",
       "       [ 0.67, -0.59,  1.05,  1.19],\n",
       "       [ 1.64, -0.12,  1.16,  0.53],\n",
       "       [ 1.89, -0.59,  1.33,  0.92],\n",
       "       [ 2.49,  1.73,  1.5 ,  1.05],\n",
       "       [ 0.67, -0.59,  1.05,  1.32],\n",
       "       [ 0.55, -0.59,  0.76,  0.4 ],\n",
       "       [ 0.31, -1.05,  1.05,  0.26],\n",
       "       [ 2.25, -0.12,  1.33,  1.45],\n",
       "       [ 0.55,  0.8 ,  1.05,  1.58],\n",
       "       [ 0.67,  0.11,  0.99,  0.79],\n",
       "       [ 0.19, -0.12,  0.59,  0.79],\n",
       "       [ 1.28,  0.11,  0.93,  1.19],\n",
       "       [ 1.04,  0.11,  1.05,  1.58],\n",
       "       [ 1.28,  0.11,  0.76,  1.45],\n",
       "       [-0.05, -0.82,  0.76,  0.92],\n",
       "       [ 1.16,  0.34,  1.22,  1.45],\n",
       "       [ 1.04,  0.57,  1.1 ,  1.71],\n",
       "       [ 1.04, -0.12,  0.82,  1.45],\n",
       "       [ 0.55, -1.28,  0.71,  0.92],\n",
       "       [ 0.8 , -0.12,  0.82,  1.05],\n",
       "       [ 0.43,  0.8 ,  0.93,  1.45],\n",
       "       [ 0.07, -0.12,  0.76,  0.79]])"
      ]
     },
     "execution_count": 29,
     "metadata": {},
     "output_type": "execute_result"
    }
   ],
   "source": [
    "X_std.round(2)"
   ]
  },
  {
   "cell_type": "code",
   "execution_count": 30,
   "id": "c4898a06",
   "metadata": {},
   "outputs": [
    {
     "name": "stderr",
     "output_type": "stream",
     "text": [
      "C:\\Users\\Welcome\\AppData\\Local\\Temp\\ipykernel_11840\\3487771208.py:1: UserWarning: \n",
      "\n",
      "`distplot` is a deprecated function and will be removed in seaborn v0.14.0.\n",
      "\n",
      "Please adapt your code to use either `displot` (a figure-level function with\n",
      "similar flexibility) or `histplot` (an axes-level function for histograms).\n",
      "\n",
      "For a guide to updating your code to use the new functions, please see\n",
      "https://gist.github.com/mwaskom/de44147ed2974457ad6372750bbe5751\n",
      "\n",
      "  sns.distplot (X_std[:,0])\n"
     ]
    },
    {
     "data": {
      "text/plain": [
       "<Axes: ylabel='Density'>"
      ]
     },
     "execution_count": 30,
     "metadata": {},
     "output_type": "execute_result"
    },
    {
     "data": {
      "image/png": "[encoded data removed]",
      "text/plain": [
       "<Figure size 640x480 with 1 Axes>"
      ]
     },
     "metadata": {},
     "output_type": "display_data"
    }
   ],
   "source": [
    "sns.distplot (X_std[:,0])"
   ]
  },
  {
   "cell_type": "code",
   "execution_count": 31,
   "id": "01a8c2a3",
   "metadata": {},
   "outputs": [],
   "source": [
    "# MinMaxScaler"
   ]
  },
  {
   "cell_type": "code",
   "execution_count": 32,
   "id": "24e6c6da",
   "metadata": {},
   "outputs": [],
   "source": [
    "from sklearn.preprocessing import MinMaxScaler"
   ]
  },
  {
   "cell_type": "code",
   "execution_count": 33,
   "id": "e388e2f9",
   "metadata": {},
   "outputs": [],
   "source": [
    "minmax = MinMaxScaler(feature_range=(1,3))"
   ]
  },
  {
   "cell_type": "code",
   "execution_count": 34,
   "id": "f4780016",
   "metadata": {},
   "outputs": [],
   "source": [
    "X_min = minmax.fit_transform(X)"
   ]
  },
  {
   "cell_type": "code",
   "execution_count": 35,
   "id": "bdcc20e3",
   "metadata": {},
   "outputs": [
    {
     "data": {
      "text/plain": [
       "array([[1.44444444, 2.25      , 1.13559322, 1.08333333],\n",
       "       [1.33333333, 1.83333333, 1.13559322, 1.08333333],\n",
       "       [1.22222222, 2.        , 1.10169492, 1.08333333],\n",
       "       [1.16666667, 1.91666667, 1.16949153, 1.08333333],\n",
       "       [1.38888889, 2.33333333, 1.13559322, 1.08333333],\n",
       "       [1.61111111, 2.58333333, 1.23728814, 1.25      ],\n",
       "       [1.16666667, 2.16666667, 1.13559322, 1.16666667],\n",
       "       [1.38888889, 2.16666667, 1.16949153, 1.08333333],\n",
       "       [1.05555556, 1.75      , 1.13559322, 1.08333333],\n",
       "       [1.33333333, 1.91666667, 1.16949153, 1.        ],\n",
       "       [1.61111111, 2.41666667, 1.16949153, 1.08333333],\n",
       "       [1.27777778, 2.16666667, 1.20338983, 1.08333333],\n",
       "       [1.27777778, 1.83333333, 1.13559322, 1.        ],\n",
       "       [1.        , 1.83333333, 1.03389831, 1.        ],\n",
       "       [1.83333333, 2.66666667, 1.06779661, 1.08333333],\n",
       "       [1.77777778, 3.        , 1.16949153, 1.25      ],\n",
       "       [1.61111111, 2.58333333, 1.10169492, 1.25      ],\n",
       "       [1.44444444, 2.25      , 1.13559322, 1.16666667],\n",
       "       [1.77777778, 2.5       , 1.23728814, 1.16666667],\n",
       "       [1.44444444, 2.5       , 1.16949153, 1.16666667],\n",
       "       [1.61111111, 2.16666667, 1.23728814, 1.08333333],\n",
       "       [1.44444444, 2.41666667, 1.16949153, 1.25      ],\n",
       "       [1.16666667, 2.33333333, 1.        , 1.08333333],\n",
       "       [1.44444444, 2.08333333, 1.23728814, 1.33333333],\n",
       "       [1.27777778, 2.16666667, 1.30508475, 1.08333333],\n",
       "       [1.38888889, 1.83333333, 1.20338983, 1.08333333],\n",
       "       [1.38888889, 2.16666667, 1.20338983, 1.25      ],\n",
       "       [1.5       , 2.25      , 1.16949153, 1.08333333],\n",
       "       [1.5       , 2.16666667, 1.13559322, 1.08333333],\n",
       "       [1.22222222, 2.        , 1.20338983, 1.08333333],\n",
       "       [1.27777778, 1.91666667, 1.20338983, 1.08333333],\n",
       "       [1.61111111, 2.16666667, 1.16949153, 1.25      ],\n",
       "       [1.5       , 2.75      , 1.16949153, 1.        ],\n",
       "       [1.66666667, 2.83333333, 1.13559322, 1.08333333],\n",
       "       [1.33333333, 1.91666667, 1.16949153, 1.        ],\n",
       "       [1.38888889, 2.        , 1.06779661, 1.08333333],\n",
       "       [1.66666667, 2.25      , 1.10169492, 1.08333333],\n",
       "       [1.33333333, 1.91666667, 1.16949153, 1.        ],\n",
       "       [1.05555556, 1.83333333, 1.10169492, 1.08333333],\n",
       "       [1.44444444, 2.16666667, 1.16949153, 1.08333333],\n",
       "       [1.38888889, 2.25      , 1.10169492, 1.16666667],\n",
       "       [1.11111111, 1.25      , 1.10169492, 1.16666667],\n",
       "       [1.05555556, 2.        , 1.10169492, 1.08333333],\n",
       "       [1.38888889, 2.25      , 1.20338983, 1.41666667],\n",
       "       [1.44444444, 2.5       , 1.30508475, 1.25      ],\n",
       "       [1.27777778, 1.83333333, 1.13559322, 1.16666667],\n",
       "       [1.44444444, 2.5       , 1.20338983, 1.08333333],\n",
       "       [1.16666667, 2.        , 1.13559322, 1.08333333],\n",
       "       [1.55555556, 2.41666667, 1.16949153, 1.08333333],\n",
       "       [1.38888889, 2.08333333, 1.13559322, 1.08333333],\n",
       "       [2.5       , 2.        , 2.25423729, 2.08333333],\n",
       "       [2.16666667, 2.        , 2.18644068, 2.16666667],\n",
       "       [2.44444444, 1.91666667, 2.3220339 , 2.16666667],\n",
       "       [1.66666667, 1.25      , 2.01694915, 2.        ],\n",
       "       [2.22222222, 1.66666667, 2.22033898, 2.16666667],\n",
       "       [1.77777778, 1.66666667, 2.18644068, 2.        ],\n",
       "       [2.11111111, 2.08333333, 2.25423729, 2.25      ],\n",
       "       [1.33333333, 1.33333333, 1.77966102, 1.75      ],\n",
       "       [2.27777778, 1.75      , 2.22033898, 2.        ],\n",
       "       [1.5       , 1.58333333, 1.98305085, 2.08333333],\n",
       "       [1.38888889, 1.        , 1.84745763, 1.75      ],\n",
       "       [1.88888889, 1.83333333, 2.08474576, 2.16666667],\n",
       "       [1.94444444, 1.16666667, 2.01694915, 1.75      ],\n",
       "       [2.        , 1.75      , 2.25423729, 2.08333333],\n",
       "       [1.72222222, 1.75      , 1.88135593, 2.        ],\n",
       "       [2.33333333, 1.91666667, 2.15254237, 2.08333333],\n",
       "       [1.72222222, 1.83333333, 2.18644068, 2.16666667],\n",
       "       [1.83333333, 1.58333333, 2.05084746, 1.75      ],\n",
       "       [2.05555556, 1.16666667, 2.18644068, 2.16666667],\n",
       "       [1.72222222, 1.41666667, 1.98305085, 1.83333333],\n",
       "       [1.88888889, 2.        , 2.28813559, 2.41666667],\n",
       "       [2.        , 1.66666667, 2.01694915, 2.        ],\n",
       "       [2.11111111, 1.41666667, 2.3220339 , 2.16666667],\n",
       "       [2.        , 1.66666667, 2.25423729, 1.91666667],\n",
       "       [2.16666667, 1.75      , 2.11864407, 2.        ],\n",
       "       [2.27777778, 1.83333333, 2.15254237, 2.08333333],\n",
       "       [2.38888889, 1.66666667, 2.28813559, 2.08333333],\n",
       "       [2.33333333, 1.83333333, 2.3559322 , 2.33333333],\n",
       "       [1.94444444, 1.75      , 2.18644068, 2.16666667],\n",
       "       [1.77777778, 1.5       , 1.84745763, 1.75      ],\n",
       "       [1.66666667, 1.33333333, 1.94915254, 1.83333333],\n",
       "       [1.66666667, 1.33333333, 1.91525424, 1.75      ],\n",
       "       [1.83333333, 1.58333333, 1.98305085, 1.91666667],\n",
       "       [1.94444444, 1.58333333, 2.38983051, 2.25      ],\n",
       "       [1.61111111, 1.83333333, 2.18644068, 2.16666667],\n",
       "       [1.94444444, 2.16666667, 2.18644068, 2.25      ],\n",
       "       [2.33333333, 1.91666667, 2.25423729, 2.16666667],\n",
       "       [2.11111111, 1.25      , 2.15254237, 2.        ],\n",
       "       [1.72222222, 1.83333333, 2.05084746, 2.        ],\n",
       "       [1.66666667, 1.41666667, 2.01694915, 2.        ],\n",
       "       [1.66666667, 1.5       , 2.15254237, 1.91666667],\n",
       "       [2.        , 1.83333333, 2.22033898, 2.08333333],\n",
       "       [1.83333333, 1.5       , 2.01694915, 1.91666667],\n",
       "       [1.38888889, 1.25      , 1.77966102, 1.75      ],\n",
       "       [1.72222222, 1.58333333, 2.08474576, 2.        ],\n",
       "       [1.77777778, 1.83333333, 2.08474576, 1.91666667],\n",
       "       [1.77777778, 1.75      , 2.08474576, 2.        ],\n",
       "       [2.05555556, 1.75      , 2.11864407, 2.        ],\n",
       "       [1.44444444, 1.41666667, 1.6779661 , 1.83333333],\n",
       "       [1.77777778, 1.66666667, 2.05084746, 2.        ],\n",
       "       [2.11111111, 2.08333333, 2.69491525, 3.        ],\n",
       "       [1.83333333, 1.58333333, 2.38983051, 2.5       ],\n",
       "       [2.55555556, 1.83333333, 2.66101695, 2.66666667],\n",
       "       [2.11111111, 1.75      , 2.55932203, 2.41666667],\n",
       "       [2.22222222, 1.83333333, 2.62711864, 2.75      ],\n",
       "       [2.83333333, 1.83333333, 2.89830508, 2.66666667],\n",
       "       [1.33333333, 1.41666667, 2.18644068, 2.33333333],\n",
       "       [2.66666667, 1.75      , 2.79661017, 2.41666667],\n",
       "       [2.33333333, 1.41666667, 2.62711864, 2.41666667],\n",
       "       [2.61111111, 2.33333333, 2.72881356, 3.        ],\n",
       "       [2.22222222, 2.        , 2.38983051, 2.58333333],\n",
       "       [2.16666667, 1.58333333, 2.45762712, 2.5       ],\n",
       "       [2.38888889, 1.83333333, 2.52542373, 2.66666667],\n",
       "       [1.77777778, 1.41666667, 2.3559322 , 2.58333333],\n",
       "       [1.83333333, 1.66666667, 2.38983051, 2.91666667],\n",
       "       [2.16666667, 2.        , 2.45762712, 2.83333333],\n",
       "       [2.22222222, 1.83333333, 2.52542373, 2.41666667],\n",
       "       [2.88888889, 2.5       , 2.93220339, 2.75      ],\n",
       "       [2.88888889, 1.5       , 3.        , 2.83333333],\n",
       "       [1.94444444, 1.16666667, 2.3559322 , 2.16666667],\n",
       "       [2.44444444, 2.        , 2.59322034, 2.83333333],\n",
       "       [1.72222222, 1.66666667, 2.3220339 , 2.58333333],\n",
       "       [2.88888889, 1.66666667, 2.93220339, 2.58333333],\n",
       "       [2.11111111, 1.58333333, 2.3220339 , 2.41666667],\n",
       "       [2.33333333, 2.08333333, 2.59322034, 2.66666667],\n",
       "       [2.61111111, 2.        , 2.69491525, 2.41666667],\n",
       "       [2.05555556, 1.66666667, 2.28813559, 2.41666667],\n",
       "       [2.        , 1.83333333, 2.3220339 , 2.41666667],\n",
       "       [2.16666667, 1.66666667, 2.55932203, 2.66666667],\n",
       "       [2.61111111, 1.83333333, 2.62711864, 2.25      ],\n",
       "       [2.72222222, 1.66666667, 2.72881356, 2.5       ],\n",
       "       [3.        , 2.5       , 2.83050847, 2.58333333],\n",
       "       [2.16666667, 1.66666667, 2.55932203, 2.75      ],\n",
       "       [2.11111111, 1.66666667, 2.38983051, 2.16666667],\n",
       "       [2.        , 1.5       , 2.55932203, 2.08333333],\n",
       "       [2.88888889, 1.83333333, 2.72881356, 2.83333333],\n",
       "       [2.11111111, 2.16666667, 2.55932203, 2.91666667],\n",
       "       [2.16666667, 1.91666667, 2.52542373, 2.41666667],\n",
       "       [1.94444444, 1.83333333, 2.28813559, 2.41666667],\n",
       "       [2.44444444, 1.91666667, 2.49152542, 2.66666667],\n",
       "       [2.33333333, 1.91666667, 2.55932203, 2.91666667],\n",
       "       [2.44444444, 1.91666667, 2.38983051, 2.83333333],\n",
       "       [1.83333333, 1.58333333, 2.38983051, 2.5       ],\n",
       "       [2.38888889, 2.        , 2.66101695, 2.83333333],\n",
       "       [2.33333333, 2.08333333, 2.59322034, 3.        ],\n",
       "       [2.33333333, 1.83333333, 2.42372881, 2.83333333],\n",
       "       [2.11111111, 1.41666667, 2.3559322 , 2.5       ],\n",
       "       [2.22222222, 1.83333333, 2.42372881, 2.58333333],\n",
       "       [2.05555556, 2.16666667, 2.49152542, 2.83333333],\n",
       "       [1.88888889, 1.83333333, 2.38983051, 2.41666667]])"
      ]
     },
     "execution_count": 35,
     "metadata": {},
     "output_type": "execute_result"
    }
   ],
   "source": [
    "X_min"
   ]
  },
  {
   "cell_type": "code",
   "execution_count": 36,
   "id": "6ace3d71",
   "metadata": {},
   "outputs": [],
   "source": [
    "# MaxAbsScaler"
   ]
  },
  {
   "cell_type": "code",
   "execution_count": 37,
   "id": "cea900bd",
   "metadata": {},
   "outputs": [],
   "source": [
    "from sklearn.preprocessing import MaxAbsScaler"
   ]
  },
  {
   "cell_type": "code",
   "execution_count": 38,
   "id": "395f4b18",
   "metadata": {},
   "outputs": [],
   "source": [
    "maxabs = MaxAbsScaler()"
   ]
  },
  {
   "cell_type": "code",
   "execution_count": 39,
   "id": "8766ab16",
   "metadata": {},
   "outputs": [],
   "source": [
    "X_max = maxabs.fit_transform(X)"
   ]
  },
  {
   "cell_type": "code",
   "execution_count": 40,
   "id": "bddd9e6e",
   "metadata": {},
   "outputs": [
    {
     "data": {
      "text/plain": [
       "array([[0.64556962, 0.79545455, 0.20289855, 0.08      ],\n",
       "       [0.62025316, 0.68181818, 0.20289855, 0.08      ],\n",
       "       [0.59493671, 0.72727273, 0.1884058 , 0.08      ],\n",
       "       [0.58227848, 0.70454545, 0.2173913 , 0.08      ],\n",
       "       [0.63291139, 0.81818182, 0.20289855, 0.08      ],\n",
       "       [0.6835443 , 0.88636364, 0.24637681, 0.16      ],\n",
       "       [0.58227848, 0.77272727, 0.20289855, 0.12      ],\n",
       "       [0.63291139, 0.77272727, 0.2173913 , 0.08      ],\n",
       "       [0.55696203, 0.65909091, 0.20289855, 0.08      ],\n",
       "       [0.62025316, 0.70454545, 0.2173913 , 0.04      ],\n",
       "       [0.6835443 , 0.84090909, 0.2173913 , 0.08      ],\n",
       "       [0.60759494, 0.77272727, 0.23188406, 0.08      ],\n",
       "       [0.60759494, 0.68181818, 0.20289855, 0.04      ],\n",
       "       [0.5443038 , 0.68181818, 0.15942029, 0.04      ],\n",
       "       [0.73417722, 0.90909091, 0.17391304, 0.08      ],\n",
       "       [0.72151899, 1.        , 0.2173913 , 0.16      ],\n",
       "       [0.6835443 , 0.88636364, 0.1884058 , 0.16      ],\n",
       "       [0.64556962, 0.79545455, 0.20289855, 0.12      ],\n",
       "       [0.72151899, 0.86363636, 0.24637681, 0.12      ],\n",
       "       [0.64556962, 0.86363636, 0.2173913 , 0.12      ],\n",
       "       [0.6835443 , 0.77272727, 0.24637681, 0.08      ],\n",
       "       [0.64556962, 0.84090909, 0.2173913 , 0.16      ],\n",
       "       [0.58227848, 0.81818182, 0.14492754, 0.08      ],\n",
       "       [0.64556962, 0.75      , 0.24637681, 0.2       ],\n",
       "       [0.60759494, 0.77272727, 0.27536232, 0.08      ],\n",
       "       [0.63291139, 0.68181818, 0.23188406, 0.08      ],\n",
       "       [0.63291139, 0.77272727, 0.23188406, 0.16      ],\n",
       "       [0.65822785, 0.79545455, 0.2173913 , 0.08      ],\n",
       "       [0.65822785, 0.77272727, 0.20289855, 0.08      ],\n",
       "       [0.59493671, 0.72727273, 0.23188406, 0.08      ],\n",
       "       [0.60759494, 0.70454545, 0.23188406, 0.08      ],\n",
       "       [0.6835443 , 0.77272727, 0.2173913 , 0.16      ],\n",
       "       [0.65822785, 0.93181818, 0.2173913 , 0.04      ],\n",
       "       [0.69620253, 0.95454545, 0.20289855, 0.08      ],\n",
       "       [0.62025316, 0.70454545, 0.2173913 , 0.04      ],\n",
       "       [0.63291139, 0.72727273, 0.17391304, 0.08      ],\n",
       "       [0.69620253, 0.79545455, 0.1884058 , 0.08      ],\n",
       "       [0.62025316, 0.70454545, 0.2173913 , 0.04      ],\n",
       "       [0.55696203, 0.68181818, 0.1884058 , 0.08      ],\n",
       "       [0.64556962, 0.77272727, 0.2173913 , 0.08      ],\n",
       "       [0.63291139, 0.79545455, 0.1884058 , 0.12      ],\n",
       "       [0.56962025, 0.52272727, 0.1884058 , 0.12      ],\n",
       "       [0.55696203, 0.72727273, 0.1884058 , 0.08      ],\n",
       "       [0.63291139, 0.79545455, 0.23188406, 0.24      ],\n",
       "       [0.64556962, 0.86363636, 0.27536232, 0.16      ],\n",
       "       [0.60759494, 0.68181818, 0.20289855, 0.12      ],\n",
       "       [0.64556962, 0.86363636, 0.23188406, 0.08      ],\n",
       "       [0.58227848, 0.72727273, 0.20289855, 0.08      ],\n",
       "       [0.67088608, 0.84090909, 0.2173913 , 0.08      ],\n",
       "       [0.63291139, 0.75      , 0.20289855, 0.08      ],\n",
       "       [0.88607595, 0.72727273, 0.68115942, 0.56      ],\n",
       "       [0.81012658, 0.72727273, 0.65217391, 0.6       ],\n",
       "       [0.87341772, 0.70454545, 0.71014493, 0.6       ],\n",
       "       [0.69620253, 0.52272727, 0.57971014, 0.52      ],\n",
       "       [0.82278481, 0.63636364, 0.66666667, 0.6       ],\n",
       "       [0.72151899, 0.63636364, 0.65217391, 0.52      ],\n",
       "       [0.79746835, 0.75      , 0.68115942, 0.64      ],\n",
       "       [0.62025316, 0.54545455, 0.47826087, 0.4       ],\n",
       "       [0.83544304, 0.65909091, 0.66666667, 0.52      ],\n",
       "       [0.65822785, 0.61363636, 0.56521739, 0.56      ],\n",
       "       [0.63291139, 0.45454545, 0.50724638, 0.4       ],\n",
       "       [0.74683544, 0.68181818, 0.60869565, 0.6       ],\n",
       "       [0.75949367, 0.5       , 0.57971014, 0.4       ],\n",
       "       [0.7721519 , 0.65909091, 0.68115942, 0.56      ],\n",
       "       [0.70886076, 0.65909091, 0.52173913, 0.52      ],\n",
       "       [0.84810127, 0.70454545, 0.63768116, 0.56      ],\n",
       "       [0.70886076, 0.68181818, 0.65217391, 0.6       ],\n",
       "       [0.73417722, 0.61363636, 0.5942029 , 0.4       ],\n",
       "       [0.78481013, 0.5       , 0.65217391, 0.6       ],\n",
       "       [0.70886076, 0.56818182, 0.56521739, 0.44      ],\n",
       "       [0.74683544, 0.72727273, 0.69565217, 0.72      ],\n",
       "       [0.7721519 , 0.63636364, 0.57971014, 0.52      ],\n",
       "       [0.79746835, 0.56818182, 0.71014493, 0.6       ],\n",
       "       [0.7721519 , 0.63636364, 0.68115942, 0.48      ],\n",
       "       [0.81012658, 0.65909091, 0.62318841, 0.52      ],\n",
       "       [0.83544304, 0.68181818, 0.63768116, 0.56      ],\n",
       "       [0.86075949, 0.63636364, 0.69565217, 0.56      ],\n",
       "       [0.84810127, 0.68181818, 0.72463768, 0.68      ],\n",
       "       [0.75949367, 0.65909091, 0.65217391, 0.6       ],\n",
       "       [0.72151899, 0.59090909, 0.50724638, 0.4       ],\n",
       "       [0.69620253, 0.54545455, 0.55072464, 0.44      ],\n",
       "       [0.69620253, 0.54545455, 0.53623188, 0.4       ],\n",
       "       [0.73417722, 0.61363636, 0.56521739, 0.48      ],\n",
       "       [0.75949367, 0.61363636, 0.73913043, 0.64      ],\n",
       "       [0.6835443 , 0.68181818, 0.65217391, 0.6       ],\n",
       "       [0.75949367, 0.77272727, 0.65217391, 0.64      ],\n",
       "       [0.84810127, 0.70454545, 0.68115942, 0.6       ],\n",
       "       [0.79746835, 0.52272727, 0.63768116, 0.52      ],\n",
       "       [0.70886076, 0.68181818, 0.5942029 , 0.52      ],\n",
       "       [0.69620253, 0.56818182, 0.57971014, 0.52      ],\n",
       "       [0.69620253, 0.59090909, 0.63768116, 0.48      ],\n",
       "       [0.7721519 , 0.68181818, 0.66666667, 0.56      ],\n",
       "       [0.73417722, 0.59090909, 0.57971014, 0.48      ],\n",
       "       [0.63291139, 0.52272727, 0.47826087, 0.4       ],\n",
       "       [0.70886076, 0.61363636, 0.60869565, 0.52      ],\n",
       "       [0.72151899, 0.68181818, 0.60869565, 0.48      ],\n",
       "       [0.72151899, 0.65909091, 0.60869565, 0.52      ],\n",
       "       [0.78481013, 0.65909091, 0.62318841, 0.52      ],\n",
       "       [0.64556962, 0.56818182, 0.43478261, 0.44      ],\n",
       "       [0.72151899, 0.63636364, 0.5942029 , 0.52      ],\n",
       "       [0.79746835, 0.75      , 0.86956522, 1.        ],\n",
       "       [0.73417722, 0.61363636, 0.73913043, 0.76      ],\n",
       "       [0.89873418, 0.68181818, 0.85507246, 0.84      ],\n",
       "       [0.79746835, 0.65909091, 0.8115942 , 0.72      ],\n",
       "       [0.82278481, 0.68181818, 0.84057971, 0.88      ],\n",
       "       [0.96202532, 0.68181818, 0.95652174, 0.84      ],\n",
       "       [0.62025316, 0.56818182, 0.65217391, 0.68      ],\n",
       "       [0.92405063, 0.65909091, 0.91304348, 0.72      ],\n",
       "       [0.84810127, 0.56818182, 0.84057971, 0.72      ],\n",
       "       [0.91139241, 0.81818182, 0.88405797, 1.        ],\n",
       "       [0.82278481, 0.72727273, 0.73913043, 0.8       ],\n",
       "       [0.81012658, 0.61363636, 0.76811594, 0.76      ],\n",
       "       [0.86075949, 0.68181818, 0.79710145, 0.84      ],\n",
       "       [0.72151899, 0.56818182, 0.72463768, 0.8       ],\n",
       "       [0.73417722, 0.63636364, 0.73913043, 0.96      ],\n",
       "       [0.81012658, 0.72727273, 0.76811594, 0.92      ],\n",
       "       [0.82278481, 0.68181818, 0.79710145, 0.72      ],\n",
       "       [0.97468354, 0.86363636, 0.97101449, 0.88      ],\n",
       "       [0.97468354, 0.59090909, 1.        , 0.92      ],\n",
       "       [0.75949367, 0.5       , 0.72463768, 0.6       ],\n",
       "       [0.87341772, 0.72727273, 0.82608696, 0.92      ],\n",
       "       [0.70886076, 0.63636364, 0.71014493, 0.8       ],\n",
       "       [0.97468354, 0.63636364, 0.97101449, 0.8       ],\n",
       "       [0.79746835, 0.61363636, 0.71014493, 0.72      ],\n",
       "       [0.84810127, 0.75      , 0.82608696, 0.84      ],\n",
       "       [0.91139241, 0.72727273, 0.86956522, 0.72      ],\n",
       "       [0.78481013, 0.63636364, 0.69565217, 0.72      ],\n",
       "       [0.7721519 , 0.68181818, 0.71014493, 0.72      ],\n",
       "       [0.81012658, 0.63636364, 0.8115942 , 0.84      ],\n",
       "       [0.91139241, 0.68181818, 0.84057971, 0.64      ],\n",
       "       [0.93670886, 0.63636364, 0.88405797, 0.76      ],\n",
       "       [1.        , 0.86363636, 0.92753623, 0.8       ],\n",
       "       [0.81012658, 0.63636364, 0.8115942 , 0.88      ],\n",
       "       [0.79746835, 0.63636364, 0.73913043, 0.6       ],\n",
       "       [0.7721519 , 0.59090909, 0.8115942 , 0.56      ],\n",
       "       [0.97468354, 0.68181818, 0.88405797, 0.92      ],\n",
       "       [0.79746835, 0.77272727, 0.8115942 , 0.96      ],\n",
       "       [0.81012658, 0.70454545, 0.79710145, 0.72      ],\n",
       "       [0.75949367, 0.68181818, 0.69565217, 0.72      ],\n",
       "       [0.87341772, 0.70454545, 0.7826087 , 0.84      ],\n",
       "       [0.84810127, 0.70454545, 0.8115942 , 0.96      ],\n",
       "       [0.87341772, 0.70454545, 0.73913043, 0.92      ],\n",
       "       [0.73417722, 0.61363636, 0.73913043, 0.76      ],\n",
       "       [0.86075949, 0.72727273, 0.85507246, 0.92      ],\n",
       "       [0.84810127, 0.75      , 0.82608696, 1.        ],\n",
       "       [0.84810127, 0.68181818, 0.75362319, 0.92      ],\n",
       "       [0.79746835, 0.56818182, 0.72463768, 0.76      ],\n",
       "       [0.82278481, 0.68181818, 0.75362319, 0.8       ],\n",
       "       [0.78481013, 0.77272727, 0.7826087 , 0.92      ],\n",
       "       [0.74683544, 0.68181818, 0.73913043, 0.72      ]])"
      ]
     },
     "execution_count": 40,
     "metadata": {},
     "output_type": "execute_result"
    }
   ],
   "source": [
    "X_max"
   ]
  },
  {
   "cell_type": "code",
   "execution_count": 41,
   "id": "a42b53cc",
   "metadata": {},
   "outputs": [],
   "source": [
    "# Dealing with missing Values"
   ]
  },
  {
   "cell_type": "code",
   "execution_count": 42,
   "id": "b0ec0066",
   "metadata": {},
   "outputs": [],
   "source": [
    "test =  np.array([[1,3],[7,5],[7,3],[np.nan,2],[np.nan,np.nan]])"
   ]
  },
  {
   "cell_type": "code",
   "execution_count": 43,
   "id": "2008909c",
   "metadata": {},
   "outputs": [
    {
     "data": {
      "text/plain": [
       "array([[ 1.,  3.],\n",
       "       [ 7.,  5.],\n",
       "       [ 7.,  3.],\n",
       "       [nan,  2.],\n",
       "       [nan, nan]])"
      ]
     },
     "execution_count": 43,
     "metadata": {},
     "output_type": "execute_result"
    }
   ],
   "source": [
    "test"
   ]
  },
  {
   "cell_type": "code",
   "execution_count": 44,
   "id": "545577b1",
   "metadata": {},
   "outputs": [],
   "source": [
    "from sklearn.impute import SimpleImputer"
   ]
  },
  {
   "cell_type": "code",
   "execution_count": 45,
   "id": "751d48eb",
   "metadata": {},
   "outputs": [],
   "source": [
    "imp = SimpleImputer(missing_values=np.nan,strategy='mean')"
   ]
  },
  {
   "cell_type": "code",
   "execution_count": 46,
   "id": "3d02a6ce",
   "metadata": {},
   "outputs": [
    {
     "data": {
      "text/plain": [
       "array([[1.  , 3.  ],\n",
       "       [7.  , 5.  ],\n",
       "       [7.  , 3.  ],\n",
       "       [5.  , 2.  ],\n",
       "       [5.  , 3.25]])"
      ]
     },
     "execution_count": 46,
     "metadata": {},
     "output_type": "execute_result"
    }
   ],
   "source": [
    "imp.fit_transform(test)"
   ]
  },
  {
   "cell_type": "code",
   "execution_count": 47,
   "id": "fcca4658",
   "metadata": {},
   "outputs": [],
   "source": [
    "imp = SimpleImputer(missing_values=np.nan,strategy='median')"
   ]
  },
  {
   "cell_type": "code",
   "execution_count": 48,
   "id": "0f41190f",
   "metadata": {},
   "outputs": [
    {
     "data": {
      "text/plain": [
       "array([[1., 3.],\n",
       "       [7., 5.],\n",
       "       [7., 3.],\n",
       "       [7., 2.],\n",
       "       [7., 3.]])"
      ]
     },
     "execution_count": 48,
     "metadata": {},
     "output_type": "execute_result"
    }
   ],
   "source": [
    "imp.fit_transform (test)"
   ]
  },
  {
   "cell_type": "code",
   "execution_count": 49,
   "id": "7577cde3",
   "metadata": {},
   "outputs": [],
   "source": [
    "imp = SimpleImputer(missing_values=np.nan,strategy='most_frequent')"
   ]
  },
  {
   "cell_type": "code",
   "execution_count": 50,
   "id": "6f33a707",
   "metadata": {},
   "outputs": [
    {
     "data": {
      "text/plain": [
       "array([[1., 3.],\n",
       "       [7., 5.],\n",
       "       [7., 3.],\n",
       "       [7., 2.],\n",
       "       [7., 3.]])"
      ]
     },
     "execution_count": 50,
     "metadata": {},
     "output_type": "execute_result"
    }
   ],
   "source": [
    "imp.fit_transform (test)"
   ]
  },
  {
   "cell_type": "code",
   "execution_count": null,
   "id": "2056f10f",
   "metadata": {},
   "outputs": [],
   "source": []
  }
 ],
 "metadata": {
  "kernelspec": {
   "display_name": "Python 3 (ipykernel)",
   "language": "python",
   "name": "python3"
  },
  "language_info": {
   "codemirror_mode": {
    "name": "ipython",
    "version": 3
   },
   "file_extension": ".py",
   "mimetype": "text/x-python",
   "name": "python",
   "nbconvert_exporter": "python",
   "pygments_lexer": "ipython3",
   "version": "3.11.5"
  }
 },
 "nbformat": 4,
 "nbformat_minor": 5
}
